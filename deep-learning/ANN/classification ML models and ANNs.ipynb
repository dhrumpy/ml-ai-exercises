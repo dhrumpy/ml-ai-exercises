{
 "cells": [
  {
   "cell_type": "code",
   "execution_count": 89,
   "metadata": {},
   "outputs": [],
   "source": [
    "import numpy as np\n",
    "import pandas as pd\n",
    "import matplotlib.pyplot as plt\n",
    "import seaborn as sns\n",
    "%matplotlib inline\n",
    "\n",
    "from sklearn.model_selection import train_test_split\n",
    "from sklearn.linear_model import LogisticRegression\n",
    "from sklearn.metrics import classification_report, confusion_matrix\n",
    "\n",
    "from tensorflow.keras.models import Sequential\n",
    "from tensorflow.keras.layers import Dense\n",
    "from tensorflow.keras.callbacks import EarlyStopping"
   ]
  },
  {
   "cell_type": "code",
   "execution_count": 48,
   "metadata": {},
   "outputs": [
    {
     "name": "stdout",
     "output_type": "stream",
     "text": [
      "(891, 12) (418, 11)\n"
     ]
    }
   ],
   "source": [
    "train = pd.read_csv('../../DATA/titanic_train.csv')\n",
    "test = pd.read_csv('../../DATA/titanic_test.csv')\n",
    "print(train.shape, test.shape)"
   ]
  },
  {
   "cell_type": "code",
   "execution_count": 51,
   "metadata": {},
   "outputs": [
    {
     "name": "stdout",
     "output_type": "stream",
     "text": [
      "(1309, 12)\n"
     ]
    },
    {
     "data": {
      "text/html": [
       "<div>\n",
       "<style scoped>\n",
       "    .dataframe tbody tr th:only-of-type {\n",
       "        vertical-align: middle;\n",
       "    }\n",
       "\n",
       "    .dataframe tbody tr th {\n",
       "        vertical-align: top;\n",
       "    }\n",
       "\n",
       "    .dataframe thead th {\n",
       "        text-align: right;\n",
       "    }\n",
       "</style>\n",
       "<table border=\"1\" class=\"dataframe\">\n",
       "  <thead>\n",
       "    <tr style=\"text-align: right;\">\n",
       "      <th></th>\n",
       "      <th>PassengerId</th>\n",
       "      <th>Survived</th>\n",
       "      <th>Pclass</th>\n",
       "      <th>Name</th>\n",
       "      <th>Sex</th>\n",
       "      <th>Age</th>\n",
       "      <th>SibSp</th>\n",
       "      <th>Parch</th>\n",
       "      <th>Ticket</th>\n",
       "      <th>Fare</th>\n",
       "      <th>Cabin</th>\n",
       "      <th>Embarked</th>\n",
       "    </tr>\n",
       "  </thead>\n",
       "  <tbody>\n",
       "    <tr>\n",
       "      <th>0</th>\n",
       "      <td>1</td>\n",
       "      <td>0.0</td>\n",
       "      <td>3</td>\n",
       "      <td>Braund, Mr. Owen Harris</td>\n",
       "      <td>male</td>\n",
       "      <td>22.0</td>\n",
       "      <td>1</td>\n",
       "      <td>0</td>\n",
       "      <td>A/5 21171</td>\n",
       "      <td>7.2500</td>\n",
       "      <td>NaN</td>\n",
       "      <td>S</td>\n",
       "    </tr>\n",
       "    <tr>\n",
       "      <th>1</th>\n",
       "      <td>2</td>\n",
       "      <td>1.0</td>\n",
       "      <td>1</td>\n",
       "      <td>Cumings, Mrs. John Bradley (Florence Briggs Th...</td>\n",
       "      <td>female</td>\n",
       "      <td>38.0</td>\n",
       "      <td>1</td>\n",
       "      <td>0</td>\n",
       "      <td>PC 17599</td>\n",
       "      <td>71.2833</td>\n",
       "      <td>C85</td>\n",
       "      <td>C</td>\n",
       "    </tr>\n",
       "    <tr>\n",
       "      <th>2</th>\n",
       "      <td>3</td>\n",
       "      <td>1.0</td>\n",
       "      <td>3</td>\n",
       "      <td>Heikkinen, Miss. Laina</td>\n",
       "      <td>female</td>\n",
       "      <td>26.0</td>\n",
       "      <td>0</td>\n",
       "      <td>0</td>\n",
       "      <td>STON/O2. 3101282</td>\n",
       "      <td>7.9250</td>\n",
       "      <td>NaN</td>\n",
       "      <td>S</td>\n",
       "    </tr>\n",
       "    <tr>\n",
       "      <th>3</th>\n",
       "      <td>4</td>\n",
       "      <td>1.0</td>\n",
       "      <td>1</td>\n",
       "      <td>Futrelle, Mrs. Jacques Heath (Lily May Peel)</td>\n",
       "      <td>female</td>\n",
       "      <td>35.0</td>\n",
       "      <td>1</td>\n",
       "      <td>0</td>\n",
       "      <td>113803</td>\n",
       "      <td>53.1000</td>\n",
       "      <td>C123</td>\n",
       "      <td>S</td>\n",
       "    </tr>\n",
       "    <tr>\n",
       "      <th>4</th>\n",
       "      <td>5</td>\n",
       "      <td>0.0</td>\n",
       "      <td>3</td>\n",
       "      <td>Allen, Mr. William Henry</td>\n",
       "      <td>male</td>\n",
       "      <td>35.0</td>\n",
       "      <td>0</td>\n",
       "      <td>0</td>\n",
       "      <td>373450</td>\n",
       "      <td>8.0500</td>\n",
       "      <td>NaN</td>\n",
       "      <td>S</td>\n",
       "    </tr>\n",
       "  </tbody>\n",
       "</table>\n",
       "</div>"
      ],
      "text/plain": [
       "   PassengerId  Survived  Pclass  \\\n",
       "0            1       0.0       3   \n",
       "1            2       1.0       1   \n",
       "2            3       1.0       3   \n",
       "3            4       1.0       1   \n",
       "4            5       0.0       3   \n",
       "\n",
       "                                                Name     Sex   Age  SibSp  \\\n",
       "0                            Braund, Mr. Owen Harris    male  22.0      1   \n",
       "1  Cumings, Mrs. John Bradley (Florence Briggs Th...  female  38.0      1   \n",
       "2                             Heikkinen, Miss. Laina  female  26.0      0   \n",
       "3       Futrelle, Mrs. Jacques Heath (Lily May Peel)  female  35.0      1   \n",
       "4                           Allen, Mr. William Henry    male  35.0      0   \n",
       "\n",
       "   Parch            Ticket     Fare Cabin Embarked  \n",
       "0      0         A/5 21171   7.2500   NaN        S  \n",
       "1      0          PC 17599  71.2833   C85        C  \n",
       "2      0  STON/O2. 3101282   7.9250   NaN        S  \n",
       "3      0            113803  53.1000  C123        S  \n",
       "4      0            373450   8.0500   NaN        S  "
      ]
     },
     "execution_count": 51,
     "metadata": {},
     "output_type": "execute_result"
    }
   ],
   "source": [
    "train = pd.concat([train, test],axis=0)\n",
    "print(train.shape)\n",
    "train.head()"
   ]
  },
  {
   "cell_type": "code",
   "execution_count": 52,
   "metadata": {},
   "outputs": [
    {
     "name": "stdout",
     "output_type": "stream",
     "text": [
      "<class 'pandas.core.frame.DataFrame'>\n",
      "Int64Index: 1309 entries, 0 to 417\n",
      "Data columns (total 12 columns):\n",
      " #   Column       Non-Null Count  Dtype  \n",
      "---  ------       --------------  -----  \n",
      " 0   PassengerId  1309 non-null   int64  \n",
      " 1   Survived     891 non-null    float64\n",
      " 2   Pclass       1309 non-null   int64  \n",
      " 3   Name         1309 non-null   object \n",
      " 4   Sex          1309 non-null   object \n",
      " 5   Age          1046 non-null   float64\n",
      " 6   SibSp        1309 non-null   int64  \n",
      " 7   Parch        1309 non-null   int64  \n",
      " 8   Ticket       1309 non-null   object \n",
      " 9   Fare         1308 non-null   float64\n",
      " 10  Cabin        295 non-null    object \n",
      " 11  Embarked     1307 non-null   object \n",
      "dtypes: float64(3), int64(4), object(5)\n",
      "memory usage: 132.9+ KB\n"
     ]
    }
   ],
   "source": [
    "train.info()"
   ]
  },
  {
   "cell_type": "code",
   "execution_count": 53,
   "metadata": {},
   "outputs": [
    {
     "data": {
      "text/html": [
       "<div>\n",
       "<style scoped>\n",
       "    .dataframe tbody tr th:only-of-type {\n",
       "        vertical-align: middle;\n",
       "    }\n",
       "\n",
       "    .dataframe tbody tr th {\n",
       "        vertical-align: top;\n",
       "    }\n",
       "\n",
       "    .dataframe thead th {\n",
       "        text-align: right;\n",
       "    }\n",
       "</style>\n",
       "<table border=\"1\" class=\"dataframe\">\n",
       "  <thead>\n",
       "    <tr style=\"text-align: right;\">\n",
       "      <th></th>\n",
       "      <th>count</th>\n",
       "      <th>mean</th>\n",
       "      <th>std</th>\n",
       "      <th>min</th>\n",
       "      <th>25%</th>\n",
       "      <th>50%</th>\n",
       "      <th>75%</th>\n",
       "      <th>max</th>\n",
       "    </tr>\n",
       "  </thead>\n",
       "  <tbody>\n",
       "    <tr>\n",
       "      <th>PassengerId</th>\n",
       "      <td>1309.0</td>\n",
       "      <td>655.000000</td>\n",
       "      <td>378.020061</td>\n",
       "      <td>1.00</td>\n",
       "      <td>328.0000</td>\n",
       "      <td>655.0000</td>\n",
       "      <td>982.000</td>\n",
       "      <td>1309.0000</td>\n",
       "    </tr>\n",
       "    <tr>\n",
       "      <th>Survived</th>\n",
       "      <td>891.0</td>\n",
       "      <td>0.383838</td>\n",
       "      <td>0.486592</td>\n",
       "      <td>0.00</td>\n",
       "      <td>0.0000</td>\n",
       "      <td>0.0000</td>\n",
       "      <td>1.000</td>\n",
       "      <td>1.0000</td>\n",
       "    </tr>\n",
       "    <tr>\n",
       "      <th>Pclass</th>\n",
       "      <td>1309.0</td>\n",
       "      <td>2.294882</td>\n",
       "      <td>0.837836</td>\n",
       "      <td>1.00</td>\n",
       "      <td>2.0000</td>\n",
       "      <td>3.0000</td>\n",
       "      <td>3.000</td>\n",
       "      <td>3.0000</td>\n",
       "    </tr>\n",
       "    <tr>\n",
       "      <th>Age</th>\n",
       "      <td>1046.0</td>\n",
       "      <td>29.881138</td>\n",
       "      <td>14.413493</td>\n",
       "      <td>0.17</td>\n",
       "      <td>21.0000</td>\n",
       "      <td>28.0000</td>\n",
       "      <td>39.000</td>\n",
       "      <td>80.0000</td>\n",
       "    </tr>\n",
       "    <tr>\n",
       "      <th>SibSp</th>\n",
       "      <td>1309.0</td>\n",
       "      <td>0.498854</td>\n",
       "      <td>1.041658</td>\n",
       "      <td>0.00</td>\n",
       "      <td>0.0000</td>\n",
       "      <td>0.0000</td>\n",
       "      <td>1.000</td>\n",
       "      <td>8.0000</td>\n",
       "    </tr>\n",
       "    <tr>\n",
       "      <th>Parch</th>\n",
       "      <td>1309.0</td>\n",
       "      <td>0.385027</td>\n",
       "      <td>0.865560</td>\n",
       "      <td>0.00</td>\n",
       "      <td>0.0000</td>\n",
       "      <td>0.0000</td>\n",
       "      <td>0.000</td>\n",
       "      <td>9.0000</td>\n",
       "    </tr>\n",
       "    <tr>\n",
       "      <th>Fare</th>\n",
       "      <td>1308.0</td>\n",
       "      <td>33.295479</td>\n",
       "      <td>51.758668</td>\n",
       "      <td>0.00</td>\n",
       "      <td>7.8958</td>\n",
       "      <td>14.4542</td>\n",
       "      <td>31.275</td>\n",
       "      <td>512.3292</td>\n",
       "    </tr>\n",
       "  </tbody>\n",
       "</table>\n",
       "</div>"
      ],
      "text/plain": [
       "              count        mean         std   min       25%       50%  \\\n",
       "PassengerId  1309.0  655.000000  378.020061  1.00  328.0000  655.0000   \n",
       "Survived      891.0    0.383838    0.486592  0.00    0.0000    0.0000   \n",
       "Pclass       1309.0    2.294882    0.837836  1.00    2.0000    3.0000   \n",
       "Age          1046.0   29.881138   14.413493  0.17   21.0000   28.0000   \n",
       "SibSp        1309.0    0.498854    1.041658  0.00    0.0000    0.0000   \n",
       "Parch        1309.0    0.385027    0.865560  0.00    0.0000    0.0000   \n",
       "Fare         1308.0   33.295479   51.758668  0.00    7.8958   14.4542   \n",
       "\n",
       "                 75%        max  \n",
       "PassengerId  982.000  1309.0000  \n",
       "Survived       1.000     1.0000  \n",
       "Pclass         3.000     3.0000  \n",
       "Age           39.000    80.0000  \n",
       "SibSp          1.000     8.0000  \n",
       "Parch          0.000     9.0000  \n",
       "Fare          31.275   512.3292  "
      ]
     },
     "execution_count": 53,
     "metadata": {},
     "output_type": "execute_result"
    }
   ],
   "source": [
    "train.describe().transpose()"
   ]
  },
  {
   "cell_type": "code",
   "execution_count": 54,
   "metadata": {},
   "outputs": [
    {
     "data": {
      "text/plain": [
       "<matplotlib.axes._subplots.AxesSubplot at 0x7f032e097be0>"
      ]
     },
     "execution_count": 54,
     "metadata": {},
     "output_type": "execute_result"
    },
    {
     "data": {
      "image/png": "[encoded data removed]",
      "text/plain": [
       "<Figure size 432x288 with 1 Axes>"
      ]
     },
     "metadata": {
      "needs_background": "light"
     },
     "output_type": "display_data"
    }
   ],
   "source": [
    "sns.heatmap(train.isnull(), yticklabels=False, cbar=False)"
   ]
  },
  {
   "cell_type": "code",
   "execution_count": 55,
   "metadata": {},
   "outputs": [],
   "source": [
    "def imputeAge(columns):\n",
    "    age = columns[1]\n",
    "    Pclass = columns[0]\n",
    "    if pd.isnull(age):\n",
    "        if Pclass==1:\n",
    "            return round(train[train['Pclass']==1]['Age'].mean(),1)\n",
    "        elif Pclass==2:\n",
    "            return round(train[train['Pclass']==2]['Age'].mean(),1)\n",
    "        else:\n",
    "            return round(train[train['Pclass']==3]['Age'].mean(),1)\n",
    "    else:\n",
    "        return age"
   ]
  },
  {
   "cell_type": "code",
   "execution_count": 56,
   "metadata": {},
   "outputs": [
    {
     "name": "stdout",
     "output_type": "stream",
     "text": [
      "413     NaN\n",
      "414    39.0\n",
      "415    38.5\n",
      "416     NaN\n",
      "417     NaN\n",
      "Name: Age, dtype: float64\n",
      "\n",
      "\n",
      "413    24.8\n",
      "414    39.0\n",
      "415    38.5\n",
      "416    24.8\n",
      "417    24.8\n",
      "Name: Age, dtype: float64\n"
     ]
    }
   ],
   "source": [
    "print(train['Age'].tail())\n",
    "print('\\n')\n",
    "train['Age'] = train[['Pclass', 'Age']].apply(imputeAge, axis=1)\n",
    "print(train['Age'].tail())"
   ]
  },
  {
   "cell_type": "code",
   "execution_count": 57,
   "metadata": {},
   "outputs": [
    {
     "data": {
      "text/plain": [
       "Index(['Survived', 'Pclass', 'Sex', 'Age', 'SibSp', 'Parch', 'Fare',\n",
       "       'Embarked'],\n",
       "      dtype='object')"
      ]
     },
     "execution_count": 57,
     "metadata": {},
     "output_type": "execute_result"
    }
   ],
   "source": [
    "drop_columns = ['PassengerId', 'Name', 'Ticket', 'Cabin']\n",
    "train.drop(labels=drop_columns, axis=1, inplace=True)\n",
    "train.columns"
   ]
  },
  {
   "cell_type": "code",
   "execution_count": 58,
   "metadata": {},
   "outputs": [
    {
     "name": "stdout",
     "output_type": "stream",
     "text": [
      "(1309, 8)\n",
      "\n",
      "\n",
      "     Survived  Pclass     Sex   Age  SibSp  Parch  Fare Embarked\n",
      "61        1.0       1  female  38.0      0      0  80.0      NaN\n",
      "829       1.0       1  female  62.0      0      0  80.0      NaN\n",
      "(889, 8)\n"
     ]
    }
   ],
   "source": [
    "print(train.shape)\n",
    "print('\\n')\n",
    "print(train[pd.isnull(train['Embarked'])])  # droping these two nan entries \n",
    "train.dropna(inplace=True)\n",
    "print(train.shape)"
   ]
  },
  {
   "cell_type": "code",
   "execution_count": 59,
   "metadata": {},
   "outputs": [
    {
     "data": {
      "text/html": [
       "<div>\n",
       "<style scoped>\n",
       "    .dataframe tbody tr th:only-of-type {\n",
       "        vertical-align: middle;\n",
       "    }\n",
       "\n",
       "    .dataframe tbody tr th {\n",
       "        vertical-align: top;\n",
       "    }\n",
       "\n",
       "    .dataframe thead th {\n",
       "        text-align: right;\n",
       "    }\n",
       "</style>\n",
       "<table border=\"1\" class=\"dataframe\">\n",
       "  <thead>\n",
       "    <tr style=\"text-align: right;\">\n",
       "      <th></th>\n",
       "      <th>Survived</th>\n",
       "      <th>Pclass</th>\n",
       "      <th>Age</th>\n",
       "      <th>SibSp</th>\n",
       "      <th>Parch</th>\n",
       "      <th>Fare</th>\n",
       "      <th>male</th>\n",
       "      <th>Q</th>\n",
       "      <th>S</th>\n",
       "    </tr>\n",
       "  </thead>\n",
       "  <tbody>\n",
       "    <tr>\n",
       "      <th>0</th>\n",
       "      <td>0.0</td>\n",
       "      <td>3</td>\n",
       "      <td>22.0</td>\n",
       "      <td>1</td>\n",
       "      <td>0</td>\n",
       "      <td>7.2500</td>\n",
       "      <td>1</td>\n",
       "      <td>0</td>\n",
       "      <td>1</td>\n",
       "    </tr>\n",
       "    <tr>\n",
       "      <th>1</th>\n",
       "      <td>1.0</td>\n",
       "      <td>1</td>\n",
       "      <td>38.0</td>\n",
       "      <td>1</td>\n",
       "      <td>0</td>\n",
       "      <td>71.2833</td>\n",
       "      <td>0</td>\n",
       "      <td>0</td>\n",
       "      <td>0</td>\n",
       "    </tr>\n",
       "    <tr>\n",
       "      <th>2</th>\n",
       "      <td>1.0</td>\n",
       "      <td>3</td>\n",
       "      <td>26.0</td>\n",
       "      <td>0</td>\n",
       "      <td>0</td>\n",
       "      <td>7.9250</td>\n",
       "      <td>0</td>\n",
       "      <td>0</td>\n",
       "      <td>1</td>\n",
       "    </tr>\n",
       "    <tr>\n",
       "      <th>3</th>\n",
       "      <td>1.0</td>\n",
       "      <td>1</td>\n",
       "      <td>35.0</td>\n",
       "      <td>1</td>\n",
       "      <td>0</td>\n",
       "      <td>53.1000</td>\n",
       "      <td>0</td>\n",
       "      <td>0</td>\n",
       "      <td>1</td>\n",
       "    </tr>\n",
       "    <tr>\n",
       "      <th>4</th>\n",
       "      <td>0.0</td>\n",
       "      <td>3</td>\n",
       "      <td>35.0</td>\n",
       "      <td>0</td>\n",
       "      <td>0</td>\n",
       "      <td>8.0500</td>\n",
       "      <td>1</td>\n",
       "      <td>0</td>\n",
       "      <td>1</td>\n",
       "    </tr>\n",
       "  </tbody>\n",
       "</table>\n",
       "</div>"
      ],
      "text/plain": [
       "   Survived  Pclass   Age  SibSp  Parch     Fare  male  Q  S\n",
       "0       0.0       3  22.0      1      0   7.2500     1  0  1\n",
       "1       1.0       1  38.0      1      0  71.2833     0  0  0\n",
       "2       1.0       3  26.0      0      0   7.9250     0  0  1\n",
       "3       1.0       1  35.0      1      0  53.1000     0  0  1\n",
       "4       0.0       3  35.0      0      0   8.0500     1  0  1"
      ]
     },
     "execution_count": 59,
     "metadata": {},
     "output_type": "execute_result"
    }
   ],
   "source": [
    "sex = pd.get_dummies(data=train['Sex'], drop_first=True)\n",
    "embarked = pd.get_dummies(data=train['Embarked'], drop_first=True)\n",
    "train = pd.concat([train, sex, embarked], axis=1)\n",
    "train.drop(['Sex', 'Embarked'], axis=1, inplace=True)\n",
    "train.head()"
   ]
  },
  {
   "cell_type": "code",
   "execution_count": 61,
   "metadata": {},
   "outputs": [],
   "source": [
    "# sns.heatmap(train.isnull())"
   ]
  },
  {
   "cell_type": "markdown",
   "metadata": {},
   "source": [
    "### Building ML models"
   ]
  },
  {
   "cell_type": "code",
   "execution_count": null,
   "metadata": {},
   "outputs": [],
   "source": []
  },
  {
   "cell_type": "code",
   "execution_count": 64,
   "metadata": {},
   "outputs": [],
   "source": [
    "X = train.drop('Survived', axis=1).values\n",
    "y = train['Survived'].values\n",
    "\n",
    "X_train, X_test, y_train, y_test = train_test_split(train.drop('Survived',axis=1), \n",
    "                                                    train['Survived'], test_size=0.30, \n",
    "                                                    random_state=42)"
   ]
  },
  {
   "cell_type": "code",
   "execution_count": 65,
   "metadata": {},
   "outputs": [
    {
     "name": "stderr",
     "output_type": "stream",
     "text": [
      "/home/dhrumpy/anaconda3/envs/tf/lib/python3.6/site-packages/sklearn/linear_model/_logistic.py:940: ConvergenceWarning: lbfgs failed to converge (status=1):\n",
      "STOP: TOTAL NO. of ITERATIONS REACHED LIMIT.\n",
      "\n",
      "Increase the number of iterations (max_iter) or scale the data as shown in:\n",
      "    https://scikit-learn.org/stable/modules/preprocessing.html\n",
      "Please also refer to the documentation for alternative solver options:\n",
      "    https://scikit-learn.org/stable/modules/linear_model.html#logistic-regression\n",
      "  extra_warning_msg=_LOGISTIC_SOLVER_CONVERGENCE_MSG)\n"
     ]
    },
    {
     "data": {
      "text/plain": [
       "LogisticRegression(C=1.0, class_weight=None, dual=False, fit_intercept=True,\n",
       "                   intercept_scaling=1, l1_ratio=None, max_iter=100,\n",
       "                   multi_class='auto', n_jobs=None, penalty='l2',\n",
       "                   random_state=None, solver='lbfgs', tol=0.0001, verbose=0,\n",
       "                   warm_start=False)"
      ]
     },
     "execution_count": 65,
     "metadata": {},
     "output_type": "execute_result"
    }
   ],
   "source": [
    "logmodel = LogisticRegression()\n",
    "logmodel.fit(X_train,y_train)"
   ]
  },
  {
   "cell_type": "code",
   "execution_count": 68,
   "metadata": {},
   "outputs": [
    {
     "name": "stdout",
     "output_type": "stream",
     "text": [
      "              precision    recall  f1-score   support\n",
      "\n",
      "         0.0       0.85      0.83      0.84       167\n",
      "         1.0       0.73      0.75      0.74       100\n",
      "\n",
      "    accuracy                           0.80       267\n",
      "   macro avg       0.79      0.79      0.79       267\n",
      "weighted avg       0.80      0.80      0.80       267\n",
      "\n"
     ]
    }
   ],
   "source": [
    "y_pred = logmodel.predict(X_test)\n",
    "print(classification_report(y_test, y_pred))"
   ]
  },
  {
   "cell_type": "code",
   "execution_count": 70,
   "metadata": {},
   "outputs": [
    {
     "data": {
      "text/plain": [
       "array([[139,  28],\n",
       "       [ 25,  75]])"
      ]
     },
     "execution_count": 70,
     "metadata": {},
     "output_type": "execute_result"
    }
   ],
   "source": [
    "confusion_matrix(y_test, y_pred)"
   ]
  },
  {
   "cell_type": "code",
   "execution_count": null,
   "metadata": {},
   "outputs": [],
   "source": []
  },
  {
   "cell_type": "markdown",
   "metadata": {},
   "source": [
    "### Building ANN"
   ]
  },
  {
   "cell_type": "code",
   "execution_count": 96,
   "metadata": {},
   "outputs": [],
   "source": [
    "classifier = Sequential()\n",
    "classifier.add(Dense(units=10, activation='relu', input_dim=X_train.shape[1]))\n",
    "classifier.add(Dense(units=6, activation='relu'))\n",
    "classifier.add(Dense(units=4, activation='relu'))\n",
    "classifier.add(Dense(units=1, activation='sigmoid'))\n",
    "\n",
    "classifier.compile(optimizer='adam', loss='binary_crossentropy', metrics=['accuracy'])\n",
    "early_stop = EarlyStopping(monitor='val_loss', mode='min', verbose=1, patience=25)"
   ]
  },
  {
   "cell_type": "code",
   "execution_count": 97,
   "metadata": {},
   "outputs": [
    {
     "name": "stdout",
     "output_type": "stream",
     "text": [
      "Train on 622 samples, validate on 267 samples\n",
      "Epoch 1/50\n",
      "622/622 - 1s - loss: 1.9957 - accuracy: 0.6093 - val_loss: 1.7222 - val_accuracy: 0.6255\n",
      "Epoch 2/50\n",
      "622/622 - 0s - loss: 1.7112 - accuracy: 0.6125 - val_loss: 1.4974 - val_accuracy: 0.6255\n",
      "Epoch 3/50\n",
      "622/622 - 0s - loss: 1.4617 - accuracy: 0.6141 - val_loss: 1.2783 - val_accuracy: 0.6255\n",
      "Epoch 4/50\n",
      "622/622 - 0s - loss: 1.2430 - accuracy: 0.6141 - val_loss: 1.0839 - val_accuracy: 0.6255\n",
      "Epoch 5/50\n",
      "622/622 - 0s - loss: 1.0395 - accuracy: 0.6141 - val_loss: 0.9103 - val_accuracy: 0.6255\n",
      "Epoch 6/50\n",
      "622/622 - 0s - loss: 0.8711 - accuracy: 0.6125 - val_loss: 0.7665 - val_accuracy: 0.6217\n",
      "Epoch 7/50\n",
      "622/622 - 0s - loss: 0.7424 - accuracy: 0.5997 - val_loss: 0.6853 - val_accuracy: 0.6404\n",
      "Epoch 8/50\n",
      "622/622 - 0s - loss: 0.6881 - accuracy: 0.6141 - val_loss: 0.6522 - val_accuracy: 0.6854\n",
      "Epoch 9/50\n",
      "622/622 - 0s - loss: 0.6594 - accuracy: 0.6431 - val_loss: 0.6458 - val_accuracy: 0.6929\n",
      "Epoch 10/50\n",
      "622/622 - 0s - loss: 0.6513 - accuracy: 0.6608 - val_loss: 0.6463 - val_accuracy: 0.6891\n",
      "Epoch 11/50\n",
      "622/622 - 0s - loss: 0.6490 - accuracy: 0.6656 - val_loss: 0.6449 - val_accuracy: 0.6929\n",
      "Epoch 12/50\n",
      "622/622 - 0s - loss: 0.6472 - accuracy: 0.6720 - val_loss: 0.6442 - val_accuracy: 0.6854\n",
      "Epoch 13/50\n",
      "622/622 - 0s - loss: 0.6464 - accuracy: 0.6656 - val_loss: 0.6433 - val_accuracy: 0.6779\n",
      "Epoch 14/50\n",
      "622/622 - 0s - loss: 0.6454 - accuracy: 0.6640 - val_loss: 0.6424 - val_accuracy: 0.6742\n",
      "Epoch 15/50\n",
      "622/622 - 0s - loss: 0.6442 - accuracy: 0.6656 - val_loss: 0.6412 - val_accuracy: 0.6704\n",
      "Epoch 16/50\n",
      "622/622 - 0s - loss: 0.6429 - accuracy: 0.6656 - val_loss: 0.6400 - val_accuracy: 0.6704\n",
      "Epoch 17/50\n",
      "622/622 - 0s - loss: 0.6415 - accuracy: 0.6656 - val_loss: 0.6386 - val_accuracy: 0.6742\n",
      "Epoch 18/50\n",
      "622/622 - 0s - loss: 0.6399 - accuracy: 0.6656 - val_loss: 0.6371 - val_accuracy: 0.6742\n",
      "Epoch 19/50\n",
      "622/622 - 0s - loss: 0.6382 - accuracy: 0.6688 - val_loss: 0.6357 - val_accuracy: 0.6742\n",
      "Epoch 20/50\n",
      "622/622 - 0s - loss: 0.6366 - accuracy: 0.6704 - val_loss: 0.6340 - val_accuracy: 0.6704\n",
      "Epoch 21/50\n",
      "622/622 - 0s - loss: 0.6349 - accuracy: 0.6720 - val_loss: 0.6320 - val_accuracy: 0.6704\n",
      "Epoch 22/50\n",
      "622/622 - 0s - loss: 0.6329 - accuracy: 0.6752 - val_loss: 0.6296 - val_accuracy: 0.6667\n",
      "Epoch 23/50\n",
      "622/622 - 0s - loss: 0.6305 - accuracy: 0.6768 - val_loss: 0.6265 - val_accuracy: 0.6667\n",
      "Epoch 24/50\n",
      "622/622 - 0s - loss: 0.6286 - accuracy: 0.6801 - val_loss: 0.6242 - val_accuracy: 0.6629\n",
      "Epoch 25/50\n",
      "622/622 - 0s - loss: 0.6265 - accuracy: 0.6817 - val_loss: 0.6217 - val_accuracy: 0.6629\n",
      "Epoch 26/50\n",
      "622/622 - 0s - loss: 0.6247 - accuracy: 0.6768 - val_loss: 0.6195 - val_accuracy: 0.6629\n",
      "Epoch 27/50\n",
      "622/622 - 0s - loss: 0.6232 - accuracy: 0.6768 - val_loss: 0.6176 - val_accuracy: 0.6629\n",
      "Epoch 28/50\n",
      "622/622 - 0s - loss: 0.6220 - accuracy: 0.6752 - val_loss: 0.6159 - val_accuracy: 0.6629\n",
      "Epoch 29/50\n",
      "622/622 - 0s - loss: 0.6202 - accuracy: 0.6768 - val_loss: 0.6144 - val_accuracy: 0.6629\n",
      "Epoch 30/50\n",
      "622/622 - 0s - loss: 0.6188 - accuracy: 0.6785 - val_loss: 0.6129 - val_accuracy: 0.6667\n",
      "Epoch 31/50\n",
      "622/622 - 0s - loss: 0.6175 - accuracy: 0.6817 - val_loss: 0.6115 - val_accuracy: 0.6704\n",
      "Epoch 32/50\n",
      "622/622 - 0s - loss: 0.6161 - accuracy: 0.6849 - val_loss: 0.6103 - val_accuracy: 0.6704\n",
      "Epoch 33/50\n",
      "622/622 - 0s - loss: 0.6150 - accuracy: 0.6865 - val_loss: 0.6091 - val_accuracy: 0.6742\n",
      "Epoch 34/50\n",
      "622/622 - 0s - loss: 0.6136 - accuracy: 0.6881 - val_loss: 0.6080 - val_accuracy: 0.6742\n",
      "Epoch 35/50\n",
      "622/622 - 0s - loss: 0.6124 - accuracy: 0.6881 - val_loss: 0.6070 - val_accuracy: 0.6816\n",
      "Epoch 36/50\n",
      "622/622 - 0s - loss: 0.6113 - accuracy: 0.6865 - val_loss: 0.6059 - val_accuracy: 0.6816\n",
      "Epoch 37/50\n",
      "622/622 - 0s - loss: 0.6101 - accuracy: 0.6881 - val_loss: 0.6050 - val_accuracy: 0.6891\n",
      "Epoch 38/50\n",
      "622/622 - 0s - loss: 0.6090 - accuracy: 0.6897 - val_loss: 0.6040 - val_accuracy: 0.6891\n",
      "Epoch 39/50\n",
      "622/622 - 0s - loss: 0.6078 - accuracy: 0.6881 - val_loss: 0.6032 - val_accuracy: 0.6891\n",
      "Epoch 40/50\n",
      "622/622 - 0s - loss: 0.6071 - accuracy: 0.6881 - val_loss: 0.6024 - val_accuracy: 0.6929\n",
      "Epoch 41/50\n",
      "622/622 - 0s - loss: 0.6064 - accuracy: 0.6897 - val_loss: 0.6015 - val_accuracy: 0.6891\n",
      "Epoch 42/50\n",
      "622/622 - 0s - loss: 0.6050 - accuracy: 0.6897 - val_loss: 0.6006 - val_accuracy: 0.6966\n",
      "Epoch 43/50\n",
      "622/622 - 0s - loss: 0.6040 - accuracy: 0.6929 - val_loss: 0.5998 - val_accuracy: 0.6966\n",
      "Epoch 44/50\n",
      "622/622 - 0s - loss: 0.6029 - accuracy: 0.6929 - val_loss: 0.5990 - val_accuracy: 0.6966\n",
      "Epoch 45/50\n",
      "622/622 - 0s - loss: 0.6016 - accuracy: 0.6913 - val_loss: 0.5983 - val_accuracy: 0.6966\n",
      "Epoch 46/50\n",
      "622/622 - 0s - loss: 0.6006 - accuracy: 0.6913 - val_loss: 0.5975 - val_accuracy: 0.6966\n",
      "Epoch 47/50\n",
      "622/622 - 0s - loss: 0.5995 - accuracy: 0.6913 - val_loss: 0.5970 - val_accuracy: 0.6966\n",
      "Epoch 48/50\n",
      "622/622 - 0s - loss: 0.5986 - accuracy: 0.6929 - val_loss: 0.5965 - val_accuracy: 0.6966\n",
      "Epoch 49/50\n",
      "622/622 - 0s - loss: 0.5975 - accuracy: 0.6929 - val_loss: 0.5956 - val_accuracy: 0.6966\n",
      "Epoch 50/50\n",
      "622/622 - 0s - loss: 0.5964 - accuracy: 0.6929 - val_loss: 0.5950 - val_accuracy: 0.6966\n"
     ]
    },
    {
     "data": {
      "text/plain": [
       "<tensorflow.python.keras.callbacks.History at 0x7f02dc6a2b70>"
      ]
     },
     "execution_count": 97,
     "metadata": {},
     "output_type": "execute_result"
    }
   ],
   "source": [
    "classifier.fit(X_train,y_train, batch_size=128, validation_data = (X_test, y_test), \n",
    "               epochs=50, callbacks=[early_stop], verbose=2)"
   ]
  },
  {
   "cell_type": "code",
   "execution_count": 98,
   "metadata": {},
   "outputs": [
    {
     "data": {
      "text/html": [
       "<div>\n",
       "<style scoped>\n",
       "    .dataframe tbody tr th:only-of-type {\n",
       "        vertical-align: middle;\n",
       "    }\n",
       "\n",
       "    .dataframe tbody tr th {\n",
       "        vertical-align: top;\n",
       "    }\n",
       "\n",
       "    .dataframe thead th {\n",
       "        text-align: right;\n",
       "    }\n",
       "</style>\n",
       "<table border=\"1\" class=\"dataframe\">\n",
       "  <thead>\n",
       "    <tr style=\"text-align: right;\">\n",
       "      <th></th>\n",
       "      <th>loss</th>\n",
       "      <th>accuracy</th>\n",
       "      <th>val_loss</th>\n",
       "      <th>val_accuracy</th>\n",
       "    </tr>\n",
       "  </thead>\n",
       "  <tbody>\n",
       "    <tr>\n",
       "      <th>0</th>\n",
       "      <td>1.995682</td>\n",
       "      <td>0.609325</td>\n",
       "      <td>1.722242</td>\n",
       "      <td>0.625468</td>\n",
       "    </tr>\n",
       "    <tr>\n",
       "      <th>1</th>\n",
       "      <td>1.711171</td>\n",
       "      <td>0.612540</td>\n",
       "      <td>1.497362</td>\n",
       "      <td>0.625468</td>\n",
       "    </tr>\n",
       "    <tr>\n",
       "      <th>2</th>\n",
       "      <td>1.461678</td>\n",
       "      <td>0.614148</td>\n",
       "      <td>1.278294</td>\n",
       "      <td>0.625468</td>\n",
       "    </tr>\n",
       "    <tr>\n",
       "      <th>3</th>\n",
       "      <td>1.243030</td>\n",
       "      <td>0.614148</td>\n",
       "      <td>1.083921</td>\n",
       "      <td>0.625468</td>\n",
       "    </tr>\n",
       "    <tr>\n",
       "      <th>4</th>\n",
       "      <td>1.039520</td>\n",
       "      <td>0.614148</td>\n",
       "      <td>0.910314</td>\n",
       "      <td>0.625468</td>\n",
       "    </tr>\n",
       "  </tbody>\n",
       "</table>\n",
       "</div>"
      ],
      "text/plain": [
       "       loss  accuracy  val_loss  val_accuracy\n",
       "0  1.995682  0.609325  1.722242      0.625468\n",
       "1  1.711171  0.612540  1.497362      0.625468\n",
       "2  1.461678  0.614148  1.278294      0.625468\n",
       "3  1.243030  0.614148  1.083921      0.625468\n",
       "4  1.039520  0.614148  0.910314      0.625468"
      ]
     },
     "execution_count": 98,
     "metadata": {},
     "output_type": "execute_result"
    }
   ],
   "source": [
    "model_loss = pd.DataFrame(classifier.history.history)\n",
    "model_loss.head()"
   ]
  },
  {
   "cell_type": "code",
   "execution_count": 99,
   "metadata": {},
   "outputs": [
    {
     "data": {
      "image/png": "[encoded data removed]",
      "text/plain": [
       "<Figure size 432x288 with 1 Axes>"
      ]
     },
     "metadata": {
      "needs_background": "light"
     },
     "output_type": "display_data"
    }
   ],
   "source": [
    "ax = model_loss.loc[:, ['loss', 'val_loss']].plot(grid=True);\n",
    "ax.set_xlabel('Epochs');\n",
    "# model_loss.loc[:, ['accuracy', 'val_accuracy']].plot(grid=True)"
   ]
  },
  {
   "cell_type": "code",
   "execution_count": 100,
   "metadata": {},
   "outputs": [
    {
     "name": "stdout",
     "output_type": "stream",
     "text": [
      "              precision    recall  f1-score   support\n",
      "\n",
      "         0.0       0.72      0.85      0.78       167\n",
      "         1.0       0.64      0.44      0.52       100\n",
      "\n",
      "    accuracy                           0.70       267\n",
      "   macro avg       0.68      0.65      0.65       267\n",
      "weighted avg       0.69      0.70      0.68       267\n",
      "\n"
     ]
    },
    {
     "data": {
      "text/plain": [
       "array([[142,  25],\n",
       "       [ 56,  44]])"
      ]
     },
     "execution_count": 100,
     "metadata": {},
     "output_type": "execute_result"
    }
   ],
   "source": [
    "y_pred = classifier.predict_classes(X_test) \n",
    "print(classification_report(y_test,y_pred))\n",
    "confusion_matrix(y_test,y_pred)"
   ]
  },
  {
   "cell_type": "code",
   "execution_count": null,
   "metadata": {},
   "outputs": [],
   "source": []
  }
 ],
 "metadata": {
  "kernelspec": {
   "display_name": "Python 3",
   "language": "python",
   "name": "python3"
  },
  "language_info": {
   "codemirror_mode": {
    "name": "ipython",
    "version": 3
   },
   "file_extension": ".py",
   "mimetype": "text/x-python",
   "name": "python",
   "nbconvert_exporter": "python",
   "pygments_lexer": "ipython3",
   "version": "3.6.10"
  }
 },
 "nbformat": 4,
 "nbformat_minor": 4
}
